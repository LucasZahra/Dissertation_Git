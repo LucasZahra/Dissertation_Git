{
 "cells": [
  {
   "cell_type": "code",
   "execution_count": 1,
   "metadata": {},
   "outputs": [
    {
     "name": "stdout",
     "output_type": "stream",
     "text": [
      "No recognizable cow meat found in the image.\n"
     ]
    }
   ],
   "source": [
    "import os\n",
    "import io\n",
    "import cv2\n",
    "import pytesseract\n",
    "import requests\n",
    "from PIL import Image\n",
    "\n",
    "# List of cow meats to recognize\n",
    "cow_meats = [\"ribeye\", \"brisket\", \"sirloin\", \"tenderloin\", \"flank\", \"shank\", \"round\", \"chuck\", \"short ribs\", \"plate\"]\n",
    "\n",
    "# Function to capture image from webcam\n",
    "def capture_image():\n",
    "    cap = cv2.VideoCapture(0)\n",
    "    if not cap.isOpened():\n",
    "        print(\"Error: Could not open webcam.\")\n",
    "        return None\n",
    "\n",
    "    ret, frame = cap.read()\n",
    "    if not ret:\n",
    "        print(\"Error: Could not read frame.\")\n",
    "        return None\n",
    "\n",
    "    image_path = 'captured_image.jpg'\n",
    "    cv2.imwrite(image_path, frame)\n",
    "    cap.release()\n",
    "    return image_path\n",
    "\n",
    "# Function to recognize text in an image using Tesseract\n",
    "def recognize_text(image_path):\n",
    "    img = cv2.imread(image_path)\n",
    "    text = pytesseract.image_to_string(img)\n",
    "    for word in text.split():\n",
    "        if word.lower() in cow_meats:\n",
    "            return word.lower()\n",
    "    return None\n",
    "\n",
    "\n",
    "def get_recipe(meat):\n",
    "    api_url = f\"https://www.themealdb.com/api/json/v1/1/search.php?s={meat}\"\n",
    "    response = requests.get(api_url)\n",
    "    data = response.json()\n",
    "    \n",
    "    if data['meals']:\n",
    "        return data['meals'][0]['strMeal'], data['meals'][0]['strInstructions']\n",
    "    return None, None\n",
    "\n",
    "\n",
    "def display_result(meat, recipe_name, recipe_instructions):\n",
    "    # Display cow image\n",
    "    cow_image_url = \"C:\\Users\\tempu\\Desktop\\Dissertation\\Practical\\Tesseract-Practical\\tesseract-main\\Cow_Body.png\"\n",
    "    cow_image_response = requests.get(cow_image_url)\n",
    "    cow_image = Image.open(io.BytesIO(cow_image_response.content))\n",
    "    cow_image.show()\n",
    "    \n",
    "    # Print recipe\n",
    "    if recipe_name and recipe_instructions:\n",
    "        print(f\"Recipe for {meat} ({recipe_name}):\\n\")\n",
    "        print(recipe_instructions)\n",
    "    else:\n",
    "        print(f\"No recipe found for {meat}.\")\n",
    "\n",
    "# Main program\n",
    "image_path = capture_image()\n",
    "if image_path:\n",
    "    recognized_meat = recognize_text(image_path)\n",
    "    if recognized_meat:\n",
    "        print(f\"Recognized meat: {recognized_meat}\")\n",
    "        recipe_name, recipe_instructions = get_recipe(recognized_meat)\n",
    "        display_result(recognized_meat, recipe_name, recipe_instructions)\n",
    "    else:\n",
    "        print(\"No recognizable cow meat found in the image.\")\n",
    "else:\n",
    "    print(\"Failed to capture image.\")"
   ]
  }
 ],
 "metadata": {
  "kernelspec": {
   "display_name": "Python 3",
   "language": "python",
   "name": "python3"
  },
  "language_info": {
   "codemirror_mode": {
    "name": "ipython",
    "version": 3
   },
   "file_extension": ".py",
   "mimetype": "text/x-python",
   "name": "python",
   "nbconvert_exporter": "python",
   "pygments_lexer": "ipython3",
   "version": "3.11.6"
  }
 },
 "nbformat": 4,
 "nbformat_minor": 2
}
